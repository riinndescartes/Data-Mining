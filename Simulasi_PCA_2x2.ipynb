{
 "cells": [
  {
   "cell_type": "markdown",
   "metadata": {},
   "source": [
    "# Simulasi Perhitungan PCA Manual "
   ]
  },
  {
   "cell_type": "markdown",
   "metadata": {},
   "source": [
    "## Memuat Library"
   ]
  },
  {
   "cell_type": "code",
   "execution_count": 52,
   "metadata": {
    "_cell_guid": "b1076dfc-b9ad-4769-8c92-a6c4dae69d19",
    "_uuid": "8f2839f25d086af736a60e9eeb907d3b93b6e0e5",
    "execution": {
     "iopub.execute_input": "2025-04-26T14:53:18.402154Z",
     "iopub.status.busy": "2025-04-26T14:53:18.398233Z",
     "iopub.status.idle": "2025-04-26T14:53:18.422809Z",
     "shell.execute_reply": "2025-04-26T14:53:18.420251Z",
     "shell.execute_reply.started": "2025-04-26T14:53:18.401969Z"
    },
    "trusted": true
   },
   "outputs": [],
   "source": [
    "import pandas as pd\n",
    "import numpy as np\n",
    "import matplotlib.pyplot as plt\n",
    "from sklearn.decomposition import PCA\n",
    "from sklearn.preprocessing import StandardScaler"
   ]
  },
  {
   "cell_type": "markdown",
   "metadata": {},
   "source": [
    "## Membuat Dataframe 2x2 dari Dataset Keseluruhan"
   ]
  },
  {
   "cell_type": "code",
   "execution_count": null,
   "metadata": {
    "execution": {
     "iopub.execute_input": "2025-04-26T14:53:18.430947Z",
     "iopub.status.busy": "2025-04-26T14:53:18.428477Z",
     "iopub.status.idle": "2025-04-26T14:53:18.444414Z",
     "shell.execute_reply": "2025-04-26T14:53:18.441520Z",
     "shell.execute_reply.started": "2025-04-26T14:53:18.430789Z"
    },
    "trusted": true
   },
   "outputs": [],
   "source": [
    "# Definisikan data sebagai dictionary dengan dua key: 'reg_gdp' dan 'life_exp'\n",
    "data = { \n",
    "\n",
    "  # 'reg_gdp' adalah list yang berisi nilai-nilai GDP regional\n",
    "  'reg_gdp': [2.275, 2.425, 5.531, 5.063, 10.616], \n",
    "  \n",
    "  # 'life_exp' adalah list yang berisi nilai-nilai harapan hidup\n",
    "  'life_exp': [65.240, 67.355, 64.360, 68.155, 68.705] \n",
    "}\n"
   ]
  },
  {
   "cell_type": "code",
   "execution_count": null,
   "metadata": {
    "execution": {
     "iopub.execute_input": "2025-04-26T14:53:18.450381Z",
     "iopub.status.busy": "2025-04-26T14:53:18.447600Z",
     "iopub.status.idle": "2025-04-26T14:53:18.477336Z",
     "shell.execute_reply": "2025-04-26T14:53:18.473974Z",
     "shell.execute_reply.started": "2025-04-26T14:53:18.450303Z"
    },
    "trusted": true
   },
   "outputs": [
    {
     "data": {
      "text/html": [
       "<div>\n",
       "<style scoped>\n",
       "    .dataframe tbody tr th:only-of-type {\n",
       "        vertical-align: middle;\n",
       "    }\n",
       "\n",
       "    .dataframe tbody tr th {\n",
       "        vertical-align: top;\n",
       "    }\n",
       "\n",
       "    .dataframe thead th {\n",
       "        text-align: right;\n",
       "    }\n",
       "</style>\n",
       "<table border=\"1\" class=\"dataframe\">\n",
       "  <thead>\n",
       "    <tr style=\"text-align: right;\">\n",
       "      <th></th>\n",
       "      <th>reg_gdp</th>\n",
       "      <th>life_exp</th>\n",
       "    </tr>\n",
       "  </thead>\n",
       "  <tbody>\n",
       "    <tr>\n",
       "      <th>0</th>\n",
       "      <td>2.275</td>\n",
       "      <td>65.240</td>\n",
       "    </tr>\n",
       "    <tr>\n",
       "      <th>1</th>\n",
       "      <td>2.425</td>\n",
       "      <td>67.355</td>\n",
       "    </tr>\n",
       "    <tr>\n",
       "      <th>2</th>\n",
       "      <td>5.531</td>\n",
       "      <td>64.360</td>\n",
       "    </tr>\n",
       "    <tr>\n",
       "      <th>3</th>\n",
       "      <td>5.063</td>\n",
       "      <td>68.155</td>\n",
       "    </tr>\n",
       "    <tr>\n",
       "      <th>4</th>\n",
       "      <td>10.616</td>\n",
       "      <td>68.705</td>\n",
       "    </tr>\n",
       "  </tbody>\n",
       "</table>\n",
       "</div>"
      ],
      "text/plain": [
       "   reg_gdp  life_exp\n",
       "0    2.275    65.240\n",
       "1    2.425    67.355\n",
       "2    5.531    64.360\n",
       "3    5.063    68.155\n",
       "4   10.616    68.705"
      ]
     },
     "execution_count": 54,
     "metadata": {},
     "output_type": "execute_result"
    }
   ],
   "source": [
    "# Buat DataFrame dari dictionary data\n",
    "sc = pd.DataFrame(data)\n",
    "\n",
    "# Tampilkan DataFrame sc\n",
    "sc"
   ]
  },
  {
   "cell_type": "markdown",
   "metadata": {},
   "source": [
    "## Statistik Deskriptif dari Dataframe"
   ]
  },
  {
   "cell_type": "markdown",
   "metadata": {},
   "source": [
    "### Rata-Rata"
   ]
  },
  {
   "cell_type": "code",
   "execution_count": 55,
   "metadata": {
    "execution": {
     "iopub.execute_input": "2025-04-26T14:53:18.489574Z",
     "iopub.status.busy": "2025-04-26T14:53:18.488366Z",
     "iopub.status.idle": "2025-04-26T14:53:18.507551Z",
     "shell.execute_reply": "2025-04-26T14:53:18.505933Z",
     "shell.execute_reply.started": "2025-04-26T14:53:18.489512Z"
    },
    "trusted": true
   },
   "outputs": [
    {
     "data": {
      "text/plain": [
       "reg_gdp      5.182\n",
       "life_exp    66.763\n",
       "dtype: float64"
      ]
     },
     "execution_count": 55,
     "metadata": {},
     "output_type": "execute_result"
    }
   ],
   "source": [
    "sc.mean()"
   ]
  },
  {
   "cell_type": "markdown",
   "metadata": {},
   "source": [
    "#### Simpangan Baku\n",
    "\n",
    "\n",
    "\n",
    "- sc.std() adalah fungsi untuk menghitung standar deviasi.\n",
    "- ddof=0 adalah parameter yang menentukan derajat kebebasan (delta degrees of freedom). \n",
    "\n",
    "Dalam hal ini, ddof=0 berarti standar deviasi dihitung dengan membagi jumlah kuadrat deviasi dengan jumlah total data (N), bukan dengan N-1.\n"
   ]
  },
  {
   "cell_type": "code",
   "execution_count": 56,
   "metadata": {
    "execution": {
     "iopub.execute_input": "2025-04-26T14:53:18.515156Z",
     "iopub.status.busy": "2025-04-26T14:53:18.513335Z",
     "iopub.status.idle": "2025-04-26T14:53:18.539441Z",
     "shell.execute_reply": "2025-04-26T14:53:18.536613Z",
     "shell.execute_reply.started": "2025-04-26T14:53:18.514957Z"
    },
    "trusted": true
   },
   "outputs": [
    {
     "data": {
      "text/plain": [
       "reg_gdp     3.023773\n",
       "life_exp    1.682464\n",
       "dtype: float64"
      ]
     },
     "execution_count": 56,
     "metadata": {},
     "output_type": "execute_result"
    }
   ],
   "source": [
    "sc.std(ddof=0)"
   ]
  },
  {
   "cell_type": "markdown",
   "metadata": {},
   "source": [
    "## Normalisasi"
   ]
  },
  {
   "cell_type": "markdown",
   "metadata": {},
   "source": [
    "### Standar Scaler (Z-Score Normalization)\n",
    "\n",
    "\n",
    "$$\n",
    "Z = \\frac{X - \\mu}{\\sigma}\n",
    "$$\n",
    "\n",
    "di mana:\n",
    "\n",
    "* $X$: nilai asli\n",
    "* $\\mu$: mean fitur\n",
    "* $\\sigma$: standar deviasi fitur"
   ]
  },
  {
   "cell_type": "code",
   "execution_count": null,
   "metadata": {
    "execution": {
     "iopub.execute_input": "2025-04-26T14:53:18.543991Z",
     "iopub.status.busy": "2025-04-26T14:53:18.541834Z",
     "iopub.status.idle": "2025-04-26T14:53:18.586731Z",
     "shell.execute_reply": "2025-04-26T14:53:18.580752Z",
     "shell.execute_reply.started": "2025-04-26T14:53:18.543866Z"
    },
    "trusted": true
   },
   "outputs": [
    {
     "data": {
      "text/plain": [
       "array([[-0.96138169, -0.90521982],\n",
       "       [-0.91177479,  0.35186483],\n",
       "       [ 0.11541872, -1.42826213],\n",
       "       [-0.03935481,  0.82735784],\n",
       "       [ 1.79709257,  1.15425929]])"
      ]
     },
     "execution_count": 57,
     "metadata": {},
     "output_type": "execute_result"
    }
   ],
   "source": [
    "# Buat objek StandardScaler\n",
    "scaler = StandardScaler()\n",
    "\n",
    "# Standardisasi data menggunakan fit_transform\n",
    "sc_s = scaler.fit_transform(sc)\n",
    "\n",
    "# Tampilkan data yang telah distandardisasi\n",
    "sc_s"
   ]
  },
  {
   "cell_type": "markdown",
   "metadata": {},
   "source": [
    "## Covarians Matrix"
   ]
  },
  {
   "cell_type": "markdown",
   "metadata": {},
   "source": [
    "### Menghitung Matriks Kovarians\n",
    "\n",
    "$$\n",
    "\\text{Cov}(X) = \\frac{1}{n-1} X^T X\n",
    "$$"
   ]
  },
  {
   "cell_type": "code",
   "execution_count": null,
   "metadata": {
    "execution": {
     "iopub.execute_input": "2025-04-26T14:53:18.594372Z",
     "iopub.status.busy": "2025-04-26T14:53:18.591923Z",
     "iopub.status.idle": "2025-04-26T14:53:18.622539Z",
     "shell.execute_reply": "2025-04-26T14:53:18.617274Z",
     "shell.execute_reply.started": "2025-04-26T14:53:18.594114Z"
    },
    "trusted": true
   },
   "outputs": [
    {
     "name": "stdout",
     "output_type": "stream",
     "text": [
      "Matriks Kovarians: \n",
      "[[1.25       0.60658559]\n",
      " [0.60658559 1.25      ]]\n"
     ]
    }
   ],
   "source": [
    "# Menghitung matriks kovarians dari data yang telah distandardisasi\n",
    "covmat_sc = np.cov(sc_s, rowvar=False)\n",
    "\n",
    "# Tampilkan matriks kovarians\n",
    "print(\"Matriks Kovarians: \")\n",
    "print(covmat_sc)"
   ]
  },
  {
   "cell_type": "markdown",
   "metadata": {},
   "source": [
    "### Mengubah Matriks Kovarians Menjadi Data Frame"
   ]
  },
  {
   "cell_type": "code",
   "execution_count": null,
   "metadata": {
    "execution": {
     "iopub.execute_input": "2025-04-26T14:53:18.629875Z",
     "iopub.status.busy": "2025-04-26T14:53:18.627460Z",
     "iopub.status.idle": "2025-04-26T14:53:18.662319Z",
     "shell.execute_reply": "2025-04-26T14:53:18.658255Z",
     "shell.execute_reply.started": "2025-04-26T14:53:18.629746Z"
    },
    "trusted": true
   },
   "outputs": [
    {
     "name": "stdout",
     "output_type": "stream",
     "text": [
      "\n",
      "DataFrame Matriks Kovarians:\n"
     ]
    },
    {
     "data": {
      "text/html": [
       "<div>\n",
       "<style scoped>\n",
       "    .dataframe tbody tr th:only-of-type {\n",
       "        vertical-align: middle;\n",
       "    }\n",
       "\n",
       "    .dataframe tbody tr th {\n",
       "        vertical-align: top;\n",
       "    }\n",
       "\n",
       "    .dataframe thead th {\n",
       "        text-align: right;\n",
       "    }\n",
       "</style>\n",
       "<table border=\"1\" class=\"dataframe\">\n",
       "  <thead>\n",
       "    <tr style=\"text-align: right;\">\n",
       "      <th></th>\n",
       "      <th>reg_gdp</th>\n",
       "      <th>life_exp</th>\n",
       "    </tr>\n",
       "  </thead>\n",
       "  <tbody>\n",
       "    <tr>\n",
       "      <th>reg_gdp</th>\n",
       "      <td>1.250000</td>\n",
       "      <td>0.606586</td>\n",
       "    </tr>\n",
       "    <tr>\n",
       "      <th>life_exp</th>\n",
       "      <td>0.606586</td>\n",
       "      <td>1.250000</td>\n",
       "    </tr>\n",
       "  </tbody>\n",
       "</table>\n",
       "</div>"
      ],
      "text/plain": [
       "           reg_gdp  life_exp\n",
       "reg_gdp   1.250000  0.606586\n",
       "life_exp  0.606586  1.250000"
      ]
     },
     "execution_count": 59,
     "metadata": {},
     "output_type": "execute_result"
    }
   ],
   "source": [
    "# Membuat DataFrame dari matriks kovarians\n",
    "cov_df = pd.DataFrame(covmat_sc, columns=sc.columns, index=sc.columns)\n",
    "\n",
    "# Menampilkan DataFrame\n",
    "print(\"\\nDataFrame Matriks Kovarians:\")\n",
    "cov_df"
   ]
  },
  {
   "cell_type": "markdown",
   "metadata": {},
   "source": [
    "## Eigen Values (λ) dan Eigen Vectors (kolom adalah vektor eigen)\n",
    "\n",
    "$$\n",
    "\\text{Cov}(X) \\cdot v = \\lambda \\cdot v\n",
    "$$"
   ]
  },
  {
   "cell_type": "markdown",
   "metadata": {},
   "source": [
    "### Menghitung Eigen Values dan Eigen Vectors"
   ]
  },
  {
   "cell_type": "code",
   "execution_count": 60,
   "metadata": {
    "execution": {
     "iopub.execute_input": "2025-04-26T14:53:18.668403Z",
     "iopub.status.busy": "2025-04-26T14:53:18.666289Z",
     "iopub.status.idle": "2025-04-26T14:53:18.696249Z",
     "shell.execute_reply": "2025-04-26T14:53:18.693033Z",
     "shell.execute_reply.started": "2025-04-26T14:53:18.668349Z"
    },
    "trusted": true
   },
   "outputs": [
    {
     "name": "stdout",
     "output_type": "stream",
     "text": [
      "\n",
      "Eigenvalues:\n"
     ]
    },
    {
     "data": {
      "text/html": [
       "<div>\n",
       "<style scoped>\n",
       "    .dataframe tbody tr th:only-of-type {\n",
       "        vertical-align: middle;\n",
       "    }\n",
       "\n",
       "    .dataframe tbody tr th {\n",
       "        vertical-align: top;\n",
       "    }\n",
       "\n",
       "    .dataframe thead th {\n",
       "        text-align: right;\n",
       "    }\n",
       "</style>\n",
       "<table border=\"1\" class=\"dataframe\">\n",
       "  <thead>\n",
       "    <tr style=\"text-align: right;\">\n",
       "      <th></th>\n",
       "      <th>Eigenvalue</th>\n",
       "    </tr>\n",
       "  </thead>\n",
       "  <tbody>\n",
       "    <tr>\n",
       "      <th>0</th>\n",
       "      <td>1.856586</td>\n",
       "    </tr>\n",
       "    <tr>\n",
       "      <th>1</th>\n",
       "      <td>0.643414</td>\n",
       "    </tr>\n",
       "  </tbody>\n",
       "</table>\n",
       "</div>"
      ],
      "text/plain": [
       "   Eigenvalue\n",
       "0    1.856586\n",
       "1    0.643414"
      ]
     },
     "execution_count": 60,
     "metadata": {},
     "output_type": "execute_result"
    }
   ],
   "source": [
    "# Menghitung Eigenvalues dan Eigenvectors\n",
    "eigenvalues, eigenvectors = np.linalg.eig(covmat_sc)\n",
    "\n",
    "# Membuat DataFrame untuk Eigenvalues\n",
    "eigenvalue_df = pd.DataFrame({'Eigenvalue': eigenvalues})\n",
    "\n",
    "# Menampilkan DataFrame Eigenvalues\n",
    "print(\"\\nEigenvalues:\")\n",
    "eigenvalue_df"
   ]
  },
  {
   "cell_type": "markdown",
   "metadata": {},
   "source": [
    "### Membuat Data Frame untuk Eigen Vectors"
   ]
  },
  {
   "cell_type": "code",
   "execution_count": 61,
   "metadata": {
    "execution": {
     "iopub.execute_input": "2025-04-26T14:53:18.706725Z",
     "iopub.status.busy": "2025-04-26T14:53:18.705317Z",
     "iopub.status.idle": "2025-04-26T14:53:18.743491Z",
     "shell.execute_reply": "2025-04-26T14:53:18.738533Z",
     "shell.execute_reply.started": "2025-04-26T14:53:18.706658Z"
    },
    "trusted": true
   },
   "outputs": [
    {
     "name": "stdout",
     "output_type": "stream",
     "text": [
      "\n",
      "Eigenvectors:\n"
     ]
    },
    {
     "data": {
      "text/html": [
       "<div>\n",
       "<style scoped>\n",
       "    .dataframe tbody tr th:only-of-type {\n",
       "        vertical-align: middle;\n",
       "    }\n",
       "\n",
       "    .dataframe tbody tr th {\n",
       "        vertical-align: top;\n",
       "    }\n",
       "\n",
       "    .dataframe thead th {\n",
       "        text-align: right;\n",
       "    }\n",
       "</style>\n",
       "<table border=\"1\" class=\"dataframe\">\n",
       "  <thead>\n",
       "    <tr style=\"text-align: right;\">\n",
       "      <th></th>\n",
       "      <th>0</th>\n",
       "      <th>1</th>\n",
       "    </tr>\n",
       "  </thead>\n",
       "  <tbody>\n",
       "    <tr>\n",
       "      <th>reg_gdp</th>\n",
       "      <td>0.707107</td>\n",
       "      <td>-0.707107</td>\n",
       "    </tr>\n",
       "    <tr>\n",
       "      <th>life_exp</th>\n",
       "      <td>0.707107</td>\n",
       "      <td>0.707107</td>\n",
       "    </tr>\n",
       "  </tbody>\n",
       "</table>\n",
       "</div>"
      ],
      "text/plain": [
       "                 0         1\n",
       "reg_gdp   0.707107 -0.707107\n",
       "life_exp  0.707107  0.707107"
      ]
     },
     "execution_count": 61,
     "metadata": {},
     "output_type": "execute_result"
    }
   ],
   "source": [
    "# Membuat DataFrame untuk Eigenvectors\n",
    "eigenvector_df = pd.DataFrame(eigenvectors, index=sc.columns)\n",
    "\n",
    "# Menampilkan DataFrame Eigenvectors\n",
    "print(\"\\nEigenvectors:\")\n",
    "eigenvector_df"
   ]
  },
  {
   "cell_type": "markdown",
   "metadata": {},
   "source": [
    "### Menghitung Varians Kumulatif"
   ]
  },
  {
   "cell_type": "markdown",
   "metadata": {},
   "source": [
    "Kode berikut digunakan untuk menghitung varians kumulatif dari eigenvalues yang telah diurutkan secara descending.\n",
    "\n",
    "- var_exp adalah daftar yang berisi proporsi varians yang dijelaskan oleh setiap komponen utama (PC), dihitung dengan membagi setiap eigenvalue dengan jumlah total eigenvalues.\n",
    "- cum_var_exp adalah array yang berisi varians kumulatif, dihitung dengan menggunakan fungsi np.cumsum() untuk mengakumulasi proporsi varians yang dijelaskan oleh setiap PC.\n",
    "\n",
    "Dengan mencetak cum_var_exp, kita dapat melihat seberapa besar proporsi varians yang dijelaskan oleh setiap komponen utama secara kumulatif."
   ]
  },
  {
   "cell_type": "code",
   "execution_count": null,
   "metadata": {
    "execution": {
     "iopub.execute_input": "2025-04-26T14:53:18.750017Z",
     "iopub.status.busy": "2025-04-26T14:53:18.747957Z",
     "iopub.status.idle": "2025-04-26T14:53:18.769054Z",
     "shell.execute_reply": "2025-04-26T14:53:18.766436Z",
     "shell.execute_reply.started": "2025-04-26T14:53:18.749871Z"
    },
    "trusted": true
   },
   "outputs": [
    {
     "name": "stdout",
     "output_type": "stream",
     "text": [
      "Varians Kumulatif\n",
      "[0.74263424 1.        ]\n"
     ]
    }
   ],
   "source": [
    "# Menghitung proporsi varians yang dijelaskan oleh setiap komponen utama\n",
    "var_exp = [(i / sum(eigenvalues)) \n",
    "           for i in sorted(eigenvalues, reverse=True)]\n",
    "\n",
    "# Menghitung varians kumulatif\n",
    "cum_var_exp = np.cumsum(var_exp)\n",
    "\n",
    "# Menampilkan varians kumulatif\n",
    "print(\"Varians Kumulatif\")\n",
    "print(cum_var_exp)"
   ]
  },
  {
   "cell_type": "markdown",
   "metadata": {},
   "source": [
    "### Menentukan Jumlah Komponen Utama"
   ]
  },
  {
   "cell_type": "markdown",
   "metadata": {},
   "source": [
    "Kode berikut digunakan untuk menentukan jumlah komponen utama yang dipilih berdasarkan pada proporsi varians kumulatif yang diinginkan (dalam hal ini 80%).\n",
    "\n",
    "- np.argmax(cum_var_exp <= 0.80) mencari indeks pertama dari cum_var_exp yang memiliki nilai lebih besar dari 0.80. Namun, karena np.argmax mengembalikan indeks dari nilai pertama yang memenuhi kondisi, maka kita perlu menambahkan 1 untuk mendapatkan jumlah komponen utama yang sebenarnya.\n",
    "- n_components adalah jumlah komponen utama yang dipilih.\n",
    "\n",
    "Dengan demikian, kode tersebut akan memilih jumlah komponen utama yang diperlukan untuk menjelaskan setidaknya 80% dari varians total dalam data.\n"
   ]
  },
  {
   "cell_type": "code",
   "execution_count": null,
   "metadata": {
    "execution": {
     "iopub.execute_input": "2025-04-26T14:53:18.777448Z",
     "iopub.status.busy": "2025-04-26T14:53:18.774957Z",
     "iopub.status.idle": "2025-04-26T14:53:18.823292Z",
     "shell.execute_reply": "2025-04-26T14:53:18.812418Z",
     "shell.execute_reply.started": "2025-04-26T14:53:18.777203Z"
    },
    "trusted": true
   },
   "outputs": [
    {
     "name": "stdout",
     "output_type": "stream",
     "text": [
      "Jumlah komponen utama yang dipilih: 1\n"
     ]
    }
   ],
   "source": [
    "# Menentukan jumlah komponen utama yang dipilih\n",
    "n_components = np.argmax(cum_var_exp >= 0.80) + 1\n",
    "\n",
    "# Menampilkan jumlah komponen utama yang dipilih\n",
    "print(f\"Jumlah komponen utama yang dipilih: {n_components}\")"
   ]
  },
  {
   "cell_type": "markdown",
   "metadata": {},
   "source": [
    "## PCA"
   ]
  },
  {
   "cell_type": "markdown",
   "metadata": {},
   "source": [
    "### Menghitung PCA"
   ]
  },
  {
   "cell_type": "code",
   "execution_count": null,
   "metadata": {
    "execution": {
     "iopub.execute_input": "2025-04-26T14:53:18.833438Z",
     "iopub.status.busy": "2025-04-26T14:53:18.827328Z",
     "iopub.status.idle": "2025-04-26T14:53:18.888330Z",
     "shell.execute_reply": "2025-04-26T14:53:18.876453Z",
     "shell.execute_reply.started": "2025-04-26T14:53:18.833117Z"
    },
    "trusted": true
   },
   "outputs": [],
   "source": [
    "# Membuat objek PCA dengan jumlah komponen utama yang telah ditentukan\n",
    "pca = PCA(n_components=n_components)\n",
    "\n",
    "# Melakukan PCA pada data yang telah distandardisasi\n",
    "X_pca = pca.fit_transform(sc_s)"
   ]
  },
  {
   "cell_type": "markdown",
   "metadata": {},
   "source": [
    "### Mengambil Eigenvalues dan Eigenvectors dari PCA"
   ]
  },
  {
   "cell_type": "markdown",
   "metadata": {},
   "source": [
    "Kode berikut digunakan untuk mengambil eigenvalues dan eigenvectors dari objek PCA (Principal Component Analysis).\n",
    "\n",
    "- pca.explained_variance_ adalah atribut yang menyimpan eigenvalues dari PCA, yang merepresentasikan jumlah varians yang dijelaskan oleh setiap komponen utama.\n",
    "- pca.components_ adalah atribut yang menyimpan eigenvectors dari PCA, yang merepresentasikan arah dari setiap komponen utama.\n",
    "\n",
    "Dengan mengambil eigenvalues dan eigenvectors, dapat dilakukan analisis lebih lanjut, seperti:\n",
    "\n",
    "- Menghitung proporsi varians yang dijelaskan oleh setiap komponen utama\n",
    "- Menghitung varians kumulatif\n",
    "- Memilih jumlah komponen utama yang optimal\n",
    "- Menganalisis struktur data menggunakan eigenvectors"
   ]
  },
  {
   "cell_type": "code",
   "execution_count": null,
   "metadata": {
    "execution": {
     "iopub.execute_input": "2025-04-26T14:53:18.898270Z",
     "iopub.status.busy": "2025-04-26T14:53:18.893475Z",
     "iopub.status.idle": "2025-04-26T14:53:18.917601Z",
     "shell.execute_reply": "2025-04-26T14:53:18.914489Z",
     "shell.execute_reply.started": "2025-04-26T14:53:18.897750Z"
    },
    "trusted": true
   },
   "outputs": [],
   "source": [
    "# Mengambil eigenvalues dan eigenvectors\n",
    "eigenvalues = pca.explained_variance_\n",
    "\n",
    "# Mengambil eigenvalues dan eigenvectors\n",
    "eigenvalues = pca.explained_variance_\n",
    "eigenvectors = pca.components_"
   ]
  },
  {
   "cell_type": "markdown",
   "metadata": {},
   "source": [
    "### Menampilkan Eigen Vectors"
   ]
  },
  {
   "cell_type": "code",
   "execution_count": 66,
   "metadata": {
    "execution": {
     "iopub.execute_input": "2025-04-26T14:53:18.924921Z",
     "iopub.status.busy": "2025-04-26T14:53:18.922886Z",
     "iopub.status.idle": "2025-04-26T14:53:18.945464Z",
     "shell.execute_reply": "2025-04-26T14:53:18.940168Z",
     "shell.execute_reply.started": "2025-04-26T14:53:18.924494Z"
    },
    "trusted": true
   },
   "outputs": [
    {
     "name": "stdout",
     "output_type": "stream",
     "text": [
      "[[0.70710678 0.70710678]]\n"
     ]
    }
   ],
   "source": [
    "print(eigenvectors)"
   ]
  },
  {
   "cell_type": "markdown",
   "metadata": {},
   "source": [
    "### Mengubah Eigen Vectors Menjadi Data Frame"
   ]
  },
  {
   "cell_type": "code",
   "execution_count": 67,
   "metadata": {
    "execution": {
     "iopub.execute_input": "2025-04-26T14:53:18.952682Z",
     "iopub.status.busy": "2025-04-26T14:53:18.950543Z",
     "iopub.status.idle": "2025-04-26T14:53:18.977712Z",
     "shell.execute_reply": "2025-04-26T14:53:18.975425Z",
     "shell.execute_reply.started": "2025-04-26T14:53:18.952492Z"
    },
    "trusted": true
   },
   "outputs": [
    {
     "data": {
      "text/html": [
       "<div>\n",
       "<style scoped>\n",
       "    .dataframe tbody tr th:only-of-type {\n",
       "        vertical-align: middle;\n",
       "    }\n",
       "\n",
       "    .dataframe tbody tr th {\n",
       "        vertical-align: top;\n",
       "    }\n",
       "\n",
       "    .dataframe thead th {\n",
       "        text-align: right;\n",
       "    }\n",
       "</style>\n",
       "<table border=\"1\" class=\"dataframe\">\n",
       "  <thead>\n",
       "    <tr style=\"text-align: right;\">\n",
       "      <th></th>\n",
       "      <th>reg_gdp</th>\n",
       "      <th>life_exp</th>\n",
       "    </tr>\n",
       "  </thead>\n",
       "  <tbody>\n",
       "    <tr>\n",
       "      <th>0</th>\n",
       "      <td>0.707107</td>\n",
       "      <td>0.707107</td>\n",
       "    </tr>\n",
       "  </tbody>\n",
       "</table>\n",
       "</div>"
      ],
      "text/plain": [
       "    reg_gdp  life_exp\n",
       "0  0.707107  0.707107"
      ]
     },
     "execution_count": 67,
     "metadata": {},
     "output_type": "execute_result"
    }
   ],
   "source": [
    "eigenvector_df = pd.DataFrame(eigenvectors, columns=sc.columns)\n",
    "eigenvector_df"
   ]
  },
  {
   "cell_type": "markdown",
   "metadata": {},
   "source": [
    "### Membuat Data Frame Skor Komponen Utama"
   ]
  },
  {
   "cell_type": "markdown",
   "metadata": {},
   "source": [
    "\n",
    "Kode berikut digunakan untuk membuat DataFrame yang berisi skor komponen utama dari data yang telah ditransformasikan menggunakan PCA.\n",
    "\n",
    "- X_pca adalah array yang berisi skor komponen utama, yang diperoleh dari transformasi data asli menggunakan PCA.\n",
    "- df_scores adalah DataFrame yang berisi skor komponen utama, dengan kolom yang diberi label \"PC1\", \"PC2\", ..., \"PCn\" sesuai dengan jumlah komponen utama yang dipilih.\n",
    "\n",
    "Dengan membuat DataFrame skor komponen utama, kita dapat:\n",
    "\n",
    "- Menganalisis struktur data yang telah direduksi dimensinya\n",
    "- Menggunakan skor komponen utama sebagai input untuk analisis lanjutan, seperti clustering atau klasifikasi\n",
    "- Memvisualisasikan data menggunakan skor komponen utama."
   ]
  },
  {
   "cell_type": "code",
   "execution_count": null,
   "metadata": {
    "execution": {
     "iopub.execute_input": "2025-04-26T14:53:18.982781Z",
     "iopub.status.busy": "2025-04-26T14:53:18.980361Z",
     "iopub.status.idle": "2025-04-26T14:53:19.017507Z",
     "shell.execute_reply": "2025-04-26T14:53:19.012886Z",
     "shell.execute_reply.started": "2025-04-26T14:53:18.982338Z"
    },
    "trusted": true
   },
   "outputs": [
    {
     "name": "stdout",
     "output_type": "stream",
     "text": [
      "        PC1\n",
      "0 -1.319887\n",
      "1 -0.395916\n",
      "2 -0.928320\n",
      "3  0.557202\n",
      "4  2.086921\n"
     ]
    }
   ],
   "source": [
    "# Skor Komponen Utama\n",
    "df_scores = pd.DataFrame(X_pca, columns=[f\"PC{i}\" for i in range(1, n_components + 1)])\n",
    "print(df_scores)"
   ]
  }
 ],
 "metadata": {
  "kaggle": {
   "accelerator": "none",
   "dataSources": [],
   "dockerImageVersionId": 31012,
   "isGpuEnabled": false,
   "isInternetEnabled": false,
   "language": "python",
   "sourceType": "notebook"
  },
  "kernelspec": {
   "display_name": "Python 3",
   "language": "python",
   "name": "python3"
  },
  "language_info": {
   "codemirror_mode": {
    "name": "ipython",
    "version": 3
   },
   "file_extension": ".py",
   "mimetype": "text/x-python",
   "name": "python",
   "nbconvert_exporter": "python",
   "pygments_lexer": "ipython3",
   "version": "3.11.11"
  }
 },
 "nbformat": 4,
 "nbformat_minor": 4
}
